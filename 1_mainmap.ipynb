{
  "nbformat": 4,
  "nbformat_minor": 0,
  "metadata": {
    "colab": {
      "name": "1 mainmap.ipynb",
      "provenance": [],
      "collapsed_sections": [],
      "authorship_tag": "ABX9TyPRp85yrRNX+J/KpC7HyZXg",
      "include_colab_link": true
    },
    "kernelspec": {
      "name": "python3",
      "display_name": "Python 3"
    },
    "language_info": {
      "name": "python"
    }
  },
  "cells": [
    {
      "cell_type": "markdown",
      "metadata": {
        "id": "view-in-github",
        "colab_type": "text"
      },
      "source": [
        "<a href=\"https://colab.research.google.com/github/SemenutaEgor/Extreme-events-in-phenomenological-neural-networks-with-different-types-of-connections/blob/master/1_mainmap.ipynb\" target=\"_parent\"><img src=\"https://colab.research.google.com/assets/colab-badge.svg\" alt=\"Open In Colab\"/></a>"
      ]
    },
    {
      "cell_type": "code",
      "metadata": {
        "colab": {
          "base_uri": "https://localhost:8080/"
        },
        "id": "YWC2AwZCd6Hm",
        "outputId": "38441608-6246-4d31-adc3-03f9a7ff04fc"
      },
      "source": [
        "from google.colab import drive\n",
        "drive.mount('/content/drive')\n",
        "\n",
        "from pydrive.auth import GoogleAuth\n",
        "from pydrive.drive import GoogleDrive\n",
        "from google.colab import auth\n",
        "from oauth2client.client import GoogleCredentials\n",
        "\n",
        "auth.authenticate_user()\n",
        "gauth = GoogleAuth()\n",
        "gauth.credentials = GoogleCredentials.get_application_default()\n",
        "drive = GoogleDrive(gauth)\n",
        "\n",
        "import matplotlib.pyplot as plt\n",
        "import numpy as np"
      ],
      "execution_count": null,
      "outputs": [
        {
          "output_type": "stream",
          "text": [
            "Drive already mounted at /content/drive; to attempt to forcibly remount, call drive.mount(\"/content/drive\", force_remount=True).\n"
          ],
          "name": "stdout"
        }
      ]
    },
    {
      "cell_type": "code",
      "metadata": {
        "id": "OTpPlGn1gSdS"
      },
      "source": [
        "with open('/content/drive/My Drive/Colab Notebooks/quadrant1.txt', 'r') as f:\n",
        "    grid1 = np.loadtxt(f)\n",
        "with open('/content/drive/My Drive/Colab Notebooks/quadrant2.txt', 'r') as f:\n",
        "    grid2 = np.loadtxt(f)\n",
        "with open('/content/drive/My Drive/Colab Notebooks/quadrant3.txt', 'r') as f:\n",
        "    grid3 = np.loadtxt(f)\n",
        "with open('/content/drive/My Drive/Colab Notebooks/quadrant4.txt', 'r') as f:\n",
        "    grid4 = np.loadtxt(f)\n",
        "\n",
        "with open('/content/drive/My Drive/Colab Notebooks/rows1.txt', 'r') as f:\n",
        "    rows1n = np.loadtxt(f)\n",
        "with open('/content/drive/My Drive/Colab Notebooks/rows2.txt', 'r') as f:\n",
        "    rows2n = np.loadtxt(f)\n",
        "with open('/content/drive/My Drive/Colab Notebooks/cols1.txt', 'r') as f:\n",
        "    cols1n = np.loadtxt(f)\n",
        "with open('/content/drive/My Drive/Colab Notebooks/cols2.txt', 'r') as f:\n",
        "    cols2n = np.loadtxt(f)\n",
        "\n",
        "grid12 = np.concatenate((grid1, grid2), axis=0)\n",
        "grid34 = np.concatenate((grid4, grid3), axis=0)\n",
        "grid = np.concatenate((grid12, grid34), axis=1)\n",
        "\n",
        "rows = np.append(rows1n, rows2n)\n",
        "cols = np.append(cols1n, cols2n)\n",
        "\n",
        "with open('/content/drive/My Drive/Colab Notebooks/grid1from4.txt', 'w') as f:\n",
        "    np.savetxt(f, grid)\n",
        "with open('/content/drive/My Drive/Colab Notebooks/rows1from4.txt', 'w') as f:\n",
        "    np.savetxt(f, rows)\n",
        "with open('/content/drive/My Drive/Colab Notebooks/cols1from4.txt', 'w') as f:\n",
        "    np.savetxt(f, cols)"
      ],
      "execution_count": null,
      "outputs": []
    },
    {
      "cell_type": "code",
      "metadata": {
        "colab": {
          "base_uri": "https://localhost:8080/",
          "height": 373
        },
        "id": "QxL5l-ZxgTQZ",
        "outputId": "9b2cc2bb-da0f-4f28-9561-46a4e6511b1d"
      },
      "source": [
        "plt.pcolormesh(rows, cols, np.log10(grid), cmap=plt.cm.get_cmap('jet'))\n",
        "plt.axes().set_aspect('equal', adjustable='box')\n",
        "plt.colorbar()"
      ],
      "execution_count": null,
      "outputs": [
        {
          "output_type": "stream",
          "text": [
            "/usr/local/lib/python3.7/dist-packages/ipykernel_launcher.py:1: RuntimeWarning: divide by zero encountered in log10\n",
            "  \"\"\"Entry point for launching an IPython kernel.\n",
            "/usr/local/lib/python3.7/dist-packages/ipykernel_launcher.py:2: MatplotlibDeprecationWarning: Adding an axes using the same arguments as a previous axes currently reuses the earlier instance.  In a future version, a new instance will always be created and returned.  Meanwhile, this warning can be suppressed, and the future behavior ensured, by passing a unique label to each axes instance.\n",
            "  \n"
          ],
          "name": "stderr"
        },
        {
          "output_type": "execute_result",
          "data": {
            "text/plain": [
              "<matplotlib.colorbar.Colorbar at 0x7fd774736350>"
            ]
          },
          "metadata": {
            "tags": []
          },
          "execution_count": 4
        },
        {
          "output_type": "display_data",
          "data": {
            "image/png": "[encoded data removed]",
            "text/plain": [
              "<Figure size 432x288 with 2 Axes>"
            ]
          },
          "metadata": {
            "tags": [],
            "needs_background": "light"
          }
        }
      ]
    },
    {
      "cell_type": "code",
      "metadata": {
        "id": "jLd26sK72Vuo"
      },
      "source": [
        ""
      ],
      "execution_count": null,
      "outputs": []
    }
  ]
}