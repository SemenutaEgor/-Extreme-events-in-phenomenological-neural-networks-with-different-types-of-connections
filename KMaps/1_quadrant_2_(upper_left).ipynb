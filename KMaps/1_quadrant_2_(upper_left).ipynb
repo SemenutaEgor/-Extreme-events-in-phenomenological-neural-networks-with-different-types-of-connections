{
  "nbformat": 4,
  "nbformat_minor": 0,
  "metadata": {
    "colab": {
      "name": "1 quadrant 2 (upper left).ipynb",
      "provenance": [],
      "collapsed_sections": [],
      "authorship_tag": "ABX9TyMVrzJj9sSeQEGsR6eeDOgD",
      "include_colab_link": true
    },
    "kernelspec": {
      "name": "python3",
      "display_name": "Python 3"
    },
    "language_info": {
      "name": "python"
    }
  },
  "cells": [
    {
      "cell_type": "markdown",
      "metadata": {
        "id": "view-in-github",
        "colab_type": "text"
      },
      "source": [
        "<a href=\"https://colab.research.google.com/github/SemenutaEgor/Extreme-events-in-phenomenological-neural-networks-with-different-types-of-connections/blob/master/1_quadrant_2_(upper_left).ipynb\" target=\"_parent\"><img src=\"https://colab.research.google.com/assets/colab-badge.svg\" alt=\"Open In Colab\"/></a>"
      ]
    },
    {
      "cell_type": "code",
      "metadata": {
        "id": "w91-dh1ldBkp"
      },
      "source": [
        "from google.colab import drive\n",
        "drive.mount('/content/drive')\n",
        "\n",
        "from pydrive.auth import GoogleAuth\n",
        "from pydrive.drive import GoogleDrive\n",
        "from google.colab import auth\n",
        "from oauth2client.client import GoogleCredentials\n",
        "\n",
        "auth.authenticate_user()\n",
        "gauth = GoogleAuth()\n",
        "gauth.credentials = GoogleCredentials.get_application_default()\n",
        "drive = GoogleDrive(gauth)"
      ],
      "execution_count": null,
      "outputs": []
    },
    {
      "cell_type": "code",
      "metadata": {
        "id": "MVaO-toka9AE"
      },
      "source": [
        "import numpy as np\n",
        "import scipy as scp\n",
        "import matplotlib.pyplot as plt\n",
        "from scipy.integrate import solve_ivp\n",
        "from scipy.signal import argrelextrema\n",
        "\n",
        "a = 1\n",
        "b = 3\n",
        "c = 1\n",
        "d = 5\n",
        "x_r = -1.6\n",
        "r = 0.01\n",
        "s = 5\n",
        "I = 4\n",
        "v_s = 2\n",
        "lambd = 10\n",
        "Theta = -0.25\n",
        "\n",
        "Gamma = lambda x_i: 1 / (1 + np.exp(-lambd * (x_i - Theta)))\n",
        "\n",
        "def two_HRs(t, X, k1, k2, k):\n",
        "    x1, y1, z1, x2, y2, z2  = X\n",
        "    dx1 = y1 - a*x1**3 + b*x1**2 -z1 + I - k1*(x1 - v_s) * Gamma(x2) + k * (x2 - x1)\n",
        "    dy1 = c - d*x1**2 - y1\n",
        "    dz1 = r*(s*(x1 - x_r) - z1)\n",
        "    \n",
        "    dx2 = y2 - a*x2**3 + b*x2**2 -z2 + I - k2*(x2 - v_s) * Gamma(x1) + k * (x1 - x2)\n",
        "    dy2 = c - d*x2**2 - y2\n",
        "    dz2 = r*(s*(x2 - x_r) - z2)\n",
        "    return [dx1, dy1, dz1, dx2, dy2, dz2]\n",
        "\n",
        "def Hss(k1, k2, initials):\n",
        "  sol = solve_ivp(two_HRs, [0, 10000], initials, rtol = 1e-11, atol = 1e-11, dense_output=True, args = (k1, k2, 0))\n",
        "  ts = sol.t\n",
        "  x1s, y1s, z1s, x2s, y2s, z2s = sol.y\n",
        "  initials = [x1s[-1], y1s[-1], z1s[-1], x2s[-1], y2s[-1], z2s[-1]]\n",
        "\n",
        "  ts = np.array(ts)\n",
        "  x1s = np.array(x1s)\n",
        "  x2s = np.array(x2s)\n",
        "  xsum = x1s + x2s\n",
        "  ts = ts[120000:]\n",
        "  xsum = xsum[120000:]\n",
        "\n",
        "  spikes_ind = argrelextrema(xsum, np.greater) \n",
        "  spikes = xsum[spikes_ind]\n",
        "\n",
        "  mu = np.mean(spikes)\n",
        "  sigma = np.std(spikes)\n",
        "  Hs = mu + 6*sigma\n",
        "\n",
        "  ee_counter = (spikes >= Hs).sum()\n",
        "\n",
        "  return [ee_counter, initials]"
      ],
      "execution_count": null,
      "outputs": []
    },
    {
      "cell_type": "code",
      "metadata": {
        "id": "ZNVLndjSdM_s"
      },
      "source": [
        "rows1 = np.linspace(-0.5, -0.25, 50, endpoint=False)\n",
        "# rows2 = np.linspace(-0.25, 0.0, 10, endpoint=True)\n",
        "# cols1 = np.linspace(-0.5, -0.25, 10, endpoint=False)\n",
        "cols2 = np.linspace(-0.25, 0.0, 50, endpoint=True)\n",
        "\n",
        "# grid1 = np.zeros([len(rows1), len(cols1)])\n",
        "grid2 = np.zeros([len(rows1), len(cols2)])\n",
        "# grid3 = np.zeros([len(rows2), len(cols2)])\n",
        "# grid4 = np.zeros([len(rows2), len(cols1)])\n",
        "\n",
        "diag_initials = [-1.5, 0, 0, -1.5, 0, 0]\n",
        "up_initials = [-1.5, 0, 0, -1.5, 0, 0]\n",
        "right_initials = [-1.5, 0, 0, -1.5, 0, 0]\n",
        "\n",
        "for i,  k1 in enumerate(cols2):\n",
        "  for j, k2 in enumerate(rows1):\n",
        "    print('k1 = ', k1, 'k2 = ', k2)\n",
        "    if (i == j): \n",
        "      grid2[i][j], rec_initials = Hss(k1, k2, diag_initials)\n",
        "      diag_initials = rec_initials\n",
        "    if i > j:\n",
        "      grid2[i][j], rec_initials = Hss(k1, k2, right_initials)\n",
        "      right_initials = rec_initials\n",
        "    if i < j: \n",
        "      grid2[i][j], rec_initials = Hss(k1, k2, up_initials)\n",
        "      up_initials = rec_initials\n",
        "\n",
        "\n",
        "with open('/content/drive/My Drive/Colab Notebooks/quadrant2.txt', 'w') as f:\n",
        "    np.savetxt(f, grid2)\n",
        "\n",
        "with open('/content/drive/My Drive/Colab Notebooks/diag_initials2.txt', 'w') as f:\n",
        "    np.savetxt(f, diag_initials)\n",
        "\n",
        "with open('/content/drive/My Drive/Colab Notebooks/right_initials2.txt', 'w') as f:\n",
        "    np.savetxt(f, right_initials)\n",
        "\n",
        "with open('/content/drive/My Drive/Colab Notebooks/up_initials2.txt', 'w') as f:\n",
        "    np.savetxt(f, up_initials)"
      ],
      "execution_count": null,
      "outputs": []
    },
    {
      "cell_type": "code",
      "metadata": {
        "id": "ZBF4A2OvdvcA"
      },
      "source": [
        "# plt.pcolormesh(rows1, cols1, grid1, cmap=plt.cm.get_cmap('jet'))\n",
        "# plt.axes().set_aspect('equal', adjustable='box')\n",
        "# plt.colorbar()"
      ],
      "execution_count": null,
      "outputs": []
    }
  ]
}
