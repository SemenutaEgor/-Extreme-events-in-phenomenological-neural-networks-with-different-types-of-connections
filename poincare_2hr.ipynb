{
 "cells": [
  {
   "cell_type": "code",
   "execution_count": 1,
   "metadata": {},
   "outputs": [],
   "source": [
    "using DynamicalSystems, CairoMakie, Random, LinearAlgebra"
   ]
  },
  {
   "cell_type": "code",
   "execution_count": 2,
   "metadata": {},
   "outputs": [
    {
     "data": {
      "text/plain": [
       "slicematrix (generic function with 1 method)"
      ]
     },
     "execution_count": 2,
     "metadata": {},
     "output_type": "execute_result"
    }
   ],
   "source": [
    "function slicematrix(A::AbstractMatrix{T}) where T\n",
    "    m, n = size(A)\n",
    "    B = Vector{T}[Vector{T}(undef, n) for _ in 1:m]\n",
    "    for i in 1:m\n",
    "        B[i] .= A[i, :]\n",
    "    end\n",
    "    return B\n",
    "end"
   ]
  },
  {
   "cell_type": "code",
   "execution_count": 3,
   "metadata": {},
   "outputs": [
    {
     "data": {
      "text/plain": [
       "dΓ (generic function with 1 method)"
      ]
     },
     "execution_count": 3,
     "metadata": {},
     "output_type": "execute_result"
    }
   ],
   "source": [
    "Γ(x, λ, Θ) = 1 / (1 + exp(-λ*(x - Θ)))\n",
    "dΓ(x, λ, Θ) = (λ*exp(-λ*(x - Θ))) / ((1 + exp(-λ*(x - Θ)))^2)"
   ]
  },
  {
   "cell_type": "code",
   "execution_count": 4,
   "metadata": {},
   "outputs": [
    {
     "data": {
      "text/plain": [
       "6-dimensional continuous dynamical system\n",
       " state:       [-1.5, 0.0, 0.0, -1.5, 0.0, 0.0]\n",
       " rule f:      loop\n",
       " in-place?    false\n",
       " jacobian:    loop_jac\n",
       " parameters:  [1.0, 3.0, 1.0, 5.0, -1.6, 0.01, …, -0.25, -0.17, -0.17, 0.0]"
      ]
     },
     "execution_count": 4,
     "metadata": {},
     "output_type": "execute_result"
    }
   ],
   "source": [
    "# 2 coupled HR neurons\n",
    "# Equations of motion:\n",
    "@inline @inbounds function loop(u, p, t)\n",
    "    a = p[1]; b = p[2]; c = p[3]; d = p[4]; xr = p[5]; r = p[6]; s = p[7]; I = p[8]; vs = p[9]; λ = p[10]; Θ = p[11]; \n",
    "    k1 = p[12]; k2 = p[13]; k = p[14] \n",
    "    du1 = u[2]+b*u[1]^2-a*u[1]^3-u[3]+I-k1*(u[1]-vs)*Γ(u[4], λ, Θ)+k*(u[4]-u[1])\n",
    "    du2 = c-d*u[1]^2-u[2]\n",
    "    du3 = r*(s*(u[1]-xr)-u[3])\n",
    "    du4 = u[5]+b*u[4]^2-a*u[4]^3-u[6]+I-k2*(u[4]-vs)Γ(u[1], λ, Θ)+k*(u[1]-u[4])\n",
    "    du5 = c-d*u[4]^2-u[5]\n",
    "    du6 = r*(s*(u[4]-xr)-u[6])\n",
    "    return SVector{6}(du1, du2, du3, du4, du5, du6)\n",
    "end\n",
    "\n",
    "# Jacobian:\n",
    "@inline @inbounds function loop_jac(u, p, t)\n",
    "    a, b, c, d, xr, r, s, I, vs, λ, Θ, k1, k2, k = p\n",
    "    J = @SMatrix [2*b*u[1]-3*a*u[1]^2-k1*Γ(u[4], λ, Θ)-k 1 (-1) (-k1)*(u[1]-vs)*dΓ(u[4], λ, Θ)+k 0 0;\n",
    "    (-2)*d*u[1] (-1) 0 0 0 0;\n",
    "    r*s 0 (-r) 0 0 0;\n",
    "    (-k2)*(u[4]-vs)*dΓ(u[1], λ, Θ)+k 0 0 2*b*u[4]-3*a*u[4]^2-k2*Γ(u[1], λ, Θ)-k 1 (-1);\n",
    "    0 0 0 (-2)*d*u[4] (-1) 0;\n",
    "    0 0 0 r*s 0 (-r)]\n",
    "    return J\n",
    "end\n",
    "\n",
    "hr = ContinuousDynamicalSystem(loop, [-1.5, 0.0, 0.0, -1.5, 0.0, 0.0], [1.0, 3.0, 1.0, 5.0, -1.6, 0.01, 5.0, 4.0, 2.0, 10.0, \n",
    "        -0.25, -0.17, -0.17, 0.0], loop_jac)"
   ]
  },
  {
   "cell_type": "code",
   "execution_count": 19,
   "metadata": {},
   "outputs": [
    {
     "name": "stderr",
     "output_type": "stream",
     "text": [
      "┌ Warning: The Poincaré surface of section did not have any points!\n",
      "└ @ ChaosTools C:\\Users\\semenjuta.e\\.julia\\packages\\ChaosTools\\Xe6aI\\src\\orbitdiagrams\\poincare.jl:113\n",
      "┌ Warning: The Poincaré surface of section did not have any points!\n",
      "└ @ ChaosTools C:\\Users\\semenjuta.e\\.julia\\packages\\ChaosTools\\Xe6aI\\src\\orbitdiagrams\\poincare.jl:113\n",
      "┌ Warning: The Poincaré surface of section did not have any points!\n",
      "└ @ ChaosTools C:\\Users\\semenjuta.e\\.julia\\packages\\ChaosTools\\Xe6aI\\src\\orbitdiagrams\\poincare.jl:113\n",
      "┌ Warning: The Poincaré surface of section did not have any points!\n",
      "└ @ ChaosTools C:\\Users\\semenjuta.e\\.julia\\packages\\ChaosTools\\Xe6aI\\src\\orbitdiagrams\\poincare.jl:113\n",
      "┌ Warning: The Poincaré surface of section did not have any points!\n",
      "└ @ ChaosTools C:\\Users\\semenjuta.e\\.julia\\packages\\ChaosTools\\Xe6aI\\src\\orbitdiagrams\\poincare.jl:113\n",
      "┌ Warning: The Poincaré surface of section did not have any points!\n",
      "└ @ ChaosTools C:\\Users\\semenjuta.e\\.julia\\packages\\ChaosTools\\Xe6aI\\src\\orbitdiagrams\\poincare.jl:113\n",
      "┌ Warning: The Poincaré surface of section did not have any points!\n",
      "└ @ ChaosTools C:\\Users\\semenjuta.e\\.julia\\packages\\ChaosTools\\Xe6aI\\src\\orbitdiagrams\\poincare.jl:113\n",
      "┌ Warning: The Poincaré surface of section did not have any points!\n",
      "└ @ ChaosTools C:\\Users\\semenjuta.e\\.julia\\packages\\ChaosTools\\Xe6aI\\src\\orbitdiagrams\\poincare.jl:113\n",
      "┌ Warning: The Poincaré surface of section did not have any points!\n",
      "└ @ ChaosTools C:\\Users\\semenjuta.e\\.julia\\packages\\ChaosTools\\Xe6aI\\src\\orbitdiagrams\\poincare.jl:113\n",
      "┌ Warning: The Poincaré surface of section did not have any points!\n",
      "└ @ ChaosTools C:\\Users\\semenjuta.e\\.julia\\packages\\ChaosTools\\Xe6aI\\src\\orbitdiagrams\\poincare.jl:113\n",
      "┌ Warning: The Poincaré surface of section did not have any points!\n",
      "└ @ ChaosTools C:\\Users\\semenjuta.e\\.julia\\packages\\ChaosTools\\Xe6aI\\src\\orbitdiagrams\\poincare.jl:113\n",
      "┌ Warning: The Poincaré surface of section did not have any points!\n",
      "└ @ ChaosTools C:\\Users\\semenjuta.e\\.julia\\packages\\ChaosTools\\Xe6aI\\src\\orbitdiagrams\\poincare.jl:113\n",
      "┌ Warning: The Poincaré surface of section did not have any points!\n",
      "└ @ ChaosTools C:\\Users\\semenjuta.e\\.julia\\packages\\ChaosTools\\Xe6aI\\src\\orbitdiagrams\\poincare.jl:113\n",
      "┌ Warning: The Poincaré surface of section did not have any points!\n",
      "└ @ ChaosTools C:\\Users\\semenjuta.e\\.julia\\packages\\ChaosTools\\Xe6aI\\src\\orbitdiagrams\\poincare.jl:113\n",
      "┌ Warning: The Poincaré surface of section did not have any points!\n",
      "└ @ ChaosTools C:\\Users\\semenjuta.e\\.julia\\packages\\ChaosTools\\Xe6aI\\src\\orbitdiagrams\\poincare.jl:113\n",
      "┌ Warning: The Poincaré surface of section did not have any points!\n",
      "└ @ ChaosTools C:\\Users\\semenjuta.e\\.julia\\packages\\ChaosTools\\Xe6aI\\src\\orbitdiagrams\\poincare.jl:113\n",
      "┌ Warning: The Poincaré surface of section did not have any points!\n",
      "└ @ ChaosTools C:\\Users\\semenjuta.e\\.julia\\packages\\ChaosTools\\Xe6aI\\src\\orbitdiagrams\\poincare.jl:113\n",
      "┌ Warning: The Poincaré surface of section did not have any points!\n",
      "└ @ ChaosTools C:\\Users\\semenjuta.e\\.julia\\packages\\ChaosTools\\Xe6aI\\src\\orbitdiagrams\\poincare.jl:113\n",
      "┌ Warning: The Poincaré surface of section did not have any points!\n",
      "└ @ ChaosTools C:\\Users\\semenjuta.e\\.julia\\packages\\ChaosTools\\Xe6aI\\src\\orbitdiagrams\\poincare.jl:113\n",
      "┌ Warning: The Poincaré surface of section did not have any points!\n",
      "└ @ ChaosTools C:\\Users\\semenjuta.e\\.julia\\packages\\ChaosTools\\Xe6aI\\src\\orbitdiagrams\\poincare.jl:113\n",
      "┌ Warning: The Poincaré surface of section did not have any points!\n",
      "└ @ ChaosTools C:\\Users\\semenjuta.e\\.julia\\packages\\ChaosTools\\Xe6aI\\src\\orbitdiagrams\\poincare.jl:113\n",
      "┌ Warning: The Poincaré surface of section did not have any points!\n",
      "└ @ ChaosTools C:\\Users\\semenjuta.e\\.julia\\packages\\ChaosTools\\Xe6aI\\src\\orbitdiagrams\\poincare.jl:113\n",
      "┌ Warning: The Poincaré surface of section did not have any points!\n",
      "└ @ ChaosTools C:\\Users\\semenjuta.e\\.julia\\packages\\ChaosTools\\Xe6aI\\src\\orbitdiagrams\\poincare.jl:113\n",
      "┌ Warning: The Poincaré surface of section did not have any points!\n",
      "└ @ ChaosTools C:\\Users\\semenjuta.e\\.julia\\packages\\ChaosTools\\Xe6aI\\src\\orbitdiagrams\\poincare.jl:113\n",
      "┌ Warning: The Poincaré surface of section did not have any points!\n",
      "└ @ ChaosTools C:\\Users\\semenjuta.e\\.julia\\packages\\ChaosTools\\Xe6aI\\src\\orbitdiagrams\\poincare.jl:113\n",
      "┌ Warning: The Poincaré surface of section did not have any points!\n",
      "└ @ ChaosTools C:\\Users\\semenjuta.e\\.julia\\packages\\ChaosTools\\Xe6aI\\src\\orbitdiagrams\\poincare.jl:113\n",
      "┌ Warning: The Poincaré surface of section did not have any points!\n",
      "└ @ ChaosTools C:\\Users\\semenjuta.e\\.julia\\packages\\ChaosTools\\Xe6aI\\src\\orbitdiagrams\\poincare.jl:113\n",
      "┌ Warning: The Poincaré surface of section did not have any points!\n",
      "└ @ ChaosTools C:\\Users\\semenjuta.e\\.julia\\packages\\ChaosTools\\Xe6aI\\src\\orbitdiagrams\\poincare.jl:113\n",
      "┌ Warning: The Poincaré surface of section did not have any points!\n",
      "└ @ ChaosTools C:\\Users\\semenjuta.e\\.julia\\packages\\ChaosTools\\Xe6aI\\src\\orbitdiagrams\\poincare.jl:113\n",
      "┌ Warning: The Poincaré surface of section did not have any points!\n",
      "└ @ ChaosTools C:\\Users\\semenjuta.e\\.julia\\packages\\ChaosTools\\Xe6aI\\src\\orbitdiagrams\\poincare.jl:113\n",
      "┌ Warning: The Poincaré surface of section did not have any points!\n",
      "└ @ ChaosTools C:\\Users\\semenjuta.e\\.julia\\packages\\ChaosTools\\Xe6aI\\src\\orbitdiagrams\\poincare.jl:113\n",
      "┌ Warning: The Poincaré surface of section did not have any points!\n",
      "└ @ ChaosTools C:\\Users\\semenjuta.e\\.julia\\packages\\ChaosTools\\Xe6aI\\src\\orbitdiagrams\\poincare.jl:113\n",
      "┌ Warning: The Poincaré surface of section did not have any points!\n",
      "└ @ ChaosTools C:\\Users\\semenjuta.e\\.julia\\packages\\ChaosTools\\Xe6aI\\src\\orbitdiagrams\\poincare.jl:113\n",
      "┌ Warning: The Poincaré surface of section did not have any points!\n",
      "└ @ ChaosTools C:\\Users\\semenjuta.e\\.julia\\packages\\ChaosTools\\Xe6aI\\src\\orbitdiagrams\\poincare.jl:113\n",
      "┌ Warning: The Poincaré surface of section did not have any points!\n",
      "└ @ ChaosTools C:\\Users\\semenjuta.e\\.julia\\packages\\ChaosTools\\Xe6aI\\src\\orbitdiagrams\\poincare.jl:113\n",
      "┌ Warning: The Poincaré surface of section did not have any points!\n",
      "└ @ ChaosTools C:\\Users\\semenjuta.e\\.julia\\packages\\ChaosTools\\Xe6aI\\src\\orbitdiagrams\\poincare.jl:113\n",
      "┌ Warning: The Poincaré surface of section did not have any points!\n",
      "└ @ ChaosTools C:\\Users\\semenjuta.e\\.julia\\packages\\ChaosTools\\Xe6aI\\src\\orbitdiagrams\\poincare.jl:113\n",
      "┌ Warning: The Poincaré surface of section did not have any points!\n",
      "└ @ ChaosTools C:\\Users\\semenjuta.e\\.julia\\packages\\ChaosTools\\Xe6aI\\src\\orbitdiagrams\\poincare.jl:113\n",
      "┌ Warning: The Poincaré surface of section did not have any points!\n",
      "└ @ ChaosTools C:\\Users\\semenjuta.e\\.julia\\packages\\ChaosTools\\Xe6aI\\src\\orbitdiagrams\\poincare.jl:113\n",
      "┌ Warning: The Poincaré surface of section did not have any points!\n",
      "└ @ ChaosTools C:\\Users\\semenjuta.e\\.julia\\packages\\ChaosTools\\Xe6aI\\src\\orbitdiagrams\\poincare.jl:113\n",
      "┌ Warning: The Poincaré surface of section did not have any points!\n",
      "└ @ ChaosTools C:\\Users\\semenjuta.e\\.julia\\packages\\ChaosTools\\Xe6aI\\src\\orbitdiagrams\\poincare.jl:113\n",
      "┌ Warning: The Poincaré surface of section did not have any points!\n",
      "└ @ ChaosTools C:\\Users\\semenjuta.e\\.julia\\packages\\ChaosTools\\Xe6aI\\src\\orbitdiagrams\\poincare.jl:113\n",
      "┌ Warning: The Poincaré surface of section did not have any points!\n",
      "└ @ ChaosTools C:\\Users\\semenjuta.e\\.julia\\packages\\ChaosTools\\Xe6aI\\src\\orbitdiagrams\\poincare.jl:113\n",
      "┌ Warning: The Poincaré surface of section did not have any points!\n",
      "└ @ ChaosTools C:\\Users\\semenjuta.e\\.julia\\packages\\ChaosTools\\Xe6aI\\src\\orbitdiagrams\\poincare.jl:113\n",
      "┌ Warning: The Poincaré surface of section did not have any points!\n",
      "└ @ ChaosTools C:\\Users\\semenjuta.e\\.julia\\packages\\ChaosTools\\Xe6aI\\src\\orbitdiagrams\\poincare.jl:113\n",
      "┌ Warning: The Poincaré surface of section did not have any points!\n",
      "└ @ ChaosTools C:\\Users\\semenjuta.e\\.julia\\packages\\ChaosTools\\Xe6aI\\src\\orbitdiagrams\\poincare.jl:113\n",
      "┌ Warning: The Poincaré surface of section did not have any points!\n",
      "└ @ ChaosTools C:\\Users\\semenjuta.e\\.julia\\packages\\ChaosTools\\Xe6aI\\src\\orbitdiagrams\\poincare.jl:113\n",
      "┌ Warning: The Poincaré surface of section did not have any points!\n",
      "└ @ ChaosTools C:\\Users\\semenjuta.e\\.julia\\packages\\ChaosTools\\Xe6aI\\src\\orbitdiagrams\\poincare.jl:113\n",
      "┌ Warning: The Poincaré surface of section did not have any points!\n",
      "└ @ ChaosTools C:\\Users\\semenjuta.e\\.julia\\packages\\ChaosTools\\Xe6aI\\src\\orbitdiagrams\\poincare.jl:113\n"
     ]
    },
    {
     "name": "stderr",
     "output_type": "stream",
     "text": [
      "┌ Warning: The Poincaré surface of section did not have any points!\n",
      "└ @ ChaosTools C:\\Users\\semenjuta.e\\.julia\\packages\\ChaosTools\\Xe6aI\\src\\orbitdiagrams\\poincare.jl:113\n",
      "┌ Warning: The Poincaré surface of section did not have any points!\n",
      "└ @ ChaosTools C:\\Users\\semenjuta.e\\.julia\\packages\\ChaosTools\\Xe6aI\\src\\orbitdiagrams\\poincare.jl:113\n",
      "┌ Warning: The Poincaré surface of section did not have any points!\n",
      "└ @ ChaosTools C:\\Users\\semenjuta.e\\.julia\\packages\\ChaosTools\\Xe6aI\\src\\orbitdiagrams\\poincare.jl:113\n",
      "┌ Warning: The Poincaré surface of section did not have any points!\n",
      "└ @ ChaosTools C:\\Users\\semenjuta.e\\.julia\\packages\\ChaosTools\\Xe6aI\\src\\orbitdiagrams\\poincare.jl:113\n",
      "┌ Warning: The Poincaré surface of section did not have any points!\n",
      "└ @ ChaosTools C:\\Users\\semenjuta.e\\.julia\\packages\\ChaosTools\\Xe6aI\\src\\orbitdiagrams\\poincare.jl:113\n",
      "┌ Warning: The Poincaré surface of section did not have any points!\n",
      "└ @ ChaosTools C:\\Users\\semenjuta.e\\.julia\\packages\\ChaosTools\\Xe6aI\\src\\orbitdiagrams\\poincare.jl:113\n",
      "┌ Warning: The Poincaré surface of section did not have any points!\n",
      "└ @ ChaosTools C:\\Users\\semenjuta.e\\.julia\\packages\\ChaosTools\\Xe6aI\\src\\orbitdiagrams\\poincare.jl:113\n",
      "┌ Warning: The Poincaré surface of section did not have any points!\n",
      "└ @ ChaosTools C:\\Users\\semenjuta.e\\.julia\\packages\\ChaosTools\\Xe6aI\\src\\orbitdiagrams\\poincare.jl:113\n",
      "┌ Warning: The Poincaré surface of section did not have any points!\n",
      "└ @ ChaosTools C:\\Users\\semenjuta.e\\.julia\\packages\\ChaosTools\\Xe6aI\\src\\orbitdiagrams\\poincare.jl:113\n",
      "┌ Warning: The Poincaré surface of section did not have any points!\n",
      "└ @ ChaosTools C:\\Users\\semenjuta.e\\.julia\\packages\\ChaosTools\\Xe6aI\\src\\orbitdiagrams\\poincare.jl:113\n",
      "┌ Warning: The Poincaré surface of section did not have any points!\n",
      "└ @ ChaosTools C:\\Users\\semenjuta.e\\.julia\\packages\\ChaosTools\\Xe6aI\\src\\orbitdiagrams\\poincare.jl:113\n",
      "┌ Warning: The Poincaré surface of section did not have any points!\n",
      "└ @ ChaosTools C:\\Users\\semenjuta.e\\.julia\\packages\\ChaosTools\\Xe6aI\\src\\orbitdiagrams\\poincare.jl:113\n",
      "┌ Warning: The Poincaré surface of section did not have any points!\n",
      "└ @ ChaosTools C:\\Users\\semenjuta.e\\.julia\\packages\\ChaosTools\\Xe6aI\\src\\orbitdiagrams\\poincare.jl:113\n"
     ]
    },
    {
     "data": {
      "image/png": "[encoded data removed]",
      "text/plain": [
       "Figure()"
      ]
     },
     "execution_count": 19,
     "metadata": {},
     "output_type": "execute_result"
    }
   ],
   "source": [
    "plane = (3, 0.0)\n",
    "\n",
    "\n",
    "fig = Figure(resolution = (600,300))\n",
    "axx = Axis(fig[1,1]; xlabel = L\"x_1\", ylabel = L\"x_2\")\n",
    "axy = Axis(fig[1,2]; xlabel = L\"y_1\", ylabel = L\"y_2\")\n",
    "for i in 1:100\n",
    "    rng = MersenneTwister(i);\n",
    "    u0 = randn!(rng, zeros(6))\n",
    "    psos = poincaresos(hr, plane, 20000.0; u0 = u0)\n",
    "    scatter!(axx, psos[:, 1], psos[:, 4]; marketsize = 2.0)\n",
    "    scatter!(axy, psos[:, 2], psos[:, 5]; marketsize = 2.0)\n",
    "end\n",
    "\n",
    "fig\n",
    "# save(\"z_1 = 0.png\", fig)"
   ]
  },
  {
   "cell_type": "code",
   "execution_count": null,
   "metadata": {},
   "outputs": [],
   "source": []
  }
 ],
 "metadata": {
  "kernelspec": {
   "display_name": "Julia 1.6.5",
   "language": "julia",
   "name": "julia-1.6"
  },
  "language_info": {
   "file_extension": ".jl",
   "mimetype": "application/julia",
   "name": "julia",
   "version": "1.6.5"
  }
 },
 "nbformat": 4,
 "nbformat_minor": 2
}
