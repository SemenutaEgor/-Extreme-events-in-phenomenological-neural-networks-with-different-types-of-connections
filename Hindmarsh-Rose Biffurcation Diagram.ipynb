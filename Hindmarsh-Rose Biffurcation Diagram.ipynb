{
 "cells": [
  {
   "cell_type": "code",
   "execution_count": 42,
   "metadata": {
    "collapsed": false
   },
   "outputs": [
   ],
   "source": [
    "import numpy as np\n",
    "import scipy as scp\n",
    "import matplotlib.pyplot as plt\n",
    "from scipy.integrate import solve_ivp\n",
    "import sympy as sp\n",
    "sp.init_printing()"
   ]
  },
  {
   "cell_type": "code",
   "execution_count": 43,
   "metadata": {
    "collapsed": false
   },
   "outputs": [
   ],
   "source": [
    "# a = 1\n",
    "# c = 1\n",
    "# d = 5\n",
    "# x_rest = -1.6\n",
    "b = 0.5\n",
    "# r = 0.01\n",
    "# s = 4\n",
    "I = 1.5"
   ]
  },
  {
   "cell_type": "code",
   "execution_count": 44,
   "metadata": {
    "collapsed": false
   },
   "outputs": [
   ],
   "source": [
    "f1 = lambda x, y, z,  b, I: y - x**3 + b*x**2 + I - z\n",
    "f2 = lambda x, y: 1 - 5*x**2 - y\n",
    "f3 = lambda x, z: 0.01*(4*(x + 1.6) - z)"
   ]
  },
  {
   "cell_type": "code",
   "execution_count": 56,
   "metadata": {
    "collapsed": false
   },
   "outputs": [
   ],
   "source": [
    "S = lambda x, y, z, b, I: y - x**3 + b*x**2 + I - z\n",
    "\n",
    "dSdx = lambda x, b: -3*x**2 + 2*b*x\n",
    "dSdy = lambda: 1\n",
    "dSdz = lambda: -1\n",
    "\n",
    "def H (x, y, z, b, I): \n",
    "    F1 = f1(x, y, z,  b, I)\n",
    "    F2 = f2(x, y)\n",
    "    F3 = f3(x, z)\n",
    "    \n",
    "    dS_dx = dSdx(x, b)\n",
    "    \n",
    "    return dS_dx*F1 + F2 - F3"
   ]
  },
  {
   "cell_type": "code",
   "execution_count": 46,
   "metadata": {
    "collapsed": false
   },
   "outputs": [
   ],
   "source": [
    "dxdS = lambda x, y, z, b, I: f1(x, y, z, b, I)/H(x, y, z, b, I)\n",
    "dydS = lambda x, y, z, b, I: f2(x, y)/H(x, y, z, b, I)\n",
    "dzdS = lambda x, y, z, b, I: f3(x, z,)/H(x, y, z, b, I)\n",
    "dtdS_non_standart = lambda x, y, z, b, I: 1/H(x, y, z, b, I)\n",
    "dtdS_standart = lambda: 1"
   ]
  },
  {
   "cell_type": "code",
   "execution_count": 60,
   "metadata": {
    "collapsed": false
   },
   "outputs": [
   ],
   "source": [
    "def RK4_standart_step (S_start, x_start, y_start, z_start, t_start, step, b, I):\n",
    "\n",
    "    S_next = S_start + step;\n",
    "\n",
    "    k1x = dxdS(x_start, y_start, z_start, b, I)\n",
    "    k1y = dydS(x_start, y_start, z_start, b, I)\n",
    "    k1z = dzdS(x_start, y_start, z_start, b, I)\n",
    "    k1t = dtdS_standart()\n",
    "\n",
    "    k2x = dxdS(x_start + 0.5*step*k1x, y_start + 0.5*step*k1x, z_start + 0.5*step*k1x, b, I)\n",
    "    k2y = dydS(x_start + 0.5*step*k1y, y_start + 0.5*step*k1y, z_start + 0.5*step*k1y, b, I)\n",
    "    k2z = dzdS(x_start + 0.5*step*k1z, y_start + 0.5*step*k1z, z_start + 0.5*step*k1z, b, I)\n",
    "    k2t = dtdS_standart()\n",
    "\n",
    "    k3x = dxdS(x_start + 0.5*step*k2x, y_start + 0.5*step*k2x, z_start + 0.5*step*k2x, b, I)\n",
    "    k3y = dydS(x_start + 0.5*step*k2y, y_start + 0.5*step*k2y, z_start + 0.5*step*k2y, b, I)\n",
    "    k3z = dzdS(x_start + 0.5*step*k2z, y_start + 0.5*step*k2z, z_start + 0.5*step*k2z, b, I)\n",
    "    k3t = dtdS_standart()\n",
    "\n",
    "    k4x = dxdS(x_start + step*k3x, y_start + step*k3x, z_start + step*k3x, b, I)\n",
    "    k4y = dydS(x_start + step*k3y, y_start + step*k3y, z_start + step*k3y, b, I)\n",
    "    k4z = dzdS(x_start + step*k3z, y_start + step*k3z, z_start + step*k3z, b, I)\n",
    "    k4t = dtdS_standart()\n",
    "\n",
    "    x_next = x_start + (step/6)*(k1x + 2*k2x + 2*k3x + k4x)\n",
    "    y_next = y_start + (step/6)*(k1y + 2*k2y + 2*k3y + k4y)\n",
    "    z_next = x_start + (step/6)*(k1z + 2*k2z + 2*k3z + k4z)\n",
    "    t_next = x_start + (step/6)*(k1t + 2*k2t + 2*k3t + k4t)\n",
    "\n",
    "    return [S_next, x_next, y_next, z_next, t_next]"
   ]
  },
  {
   "cell_type": "code",
   "execution_count": 48,
   "metadata": {
    "collapsed": false
   },
   "outputs": [
   ],
   "source": [
    "def RK4_non_standart_step (S_start, x_start, y_start, z_start, t_start, step, b, I):\n",
    "\n",
    "    S_next = S_start + step;\n",
    "\n",
    "    k1x = dxdS(x_start, y_start, z_start, b, I)\n",
    "    k1y = dydS(x_start, y_start, z_start, b, I)\n",
    "    k1z = dzdS(x_start, y_start, z_start, b, I)\n",
    "    k1t = dtdS_non_standart(x_start, y_start, z_start, b, I)\n",
    "\n",
    "    k2x = dxdS(x_start + 0.5*step*k1x, y_start + 0.5*step*k1x, z_start + 0.5*step*k1x, b, I)\n",
    "    k2y = dydS(x_start + 0.5*step*k1y, y_start + 0.5*step*k1y, z_start + 0.5*step*k1y, b, I)\n",
    "    k2z = dzdS(x_start + 0.5*step*k1z, y_start + 0.5*step*k1z, z_start + 0.5*step*k1z, b, I)\n",
    "    k2t = dtdS_non_standart(x_start + 0.5*step*k1t, y_start + 0.5*step*k1t, z_start + 0.5*step*k1t, b, I)\n",
    "\n",
    "    k3x = dxdS(x_start + 0.5*step*k2x, y_start + 0.5*step*k2x, z_start + 0.5*step*k2x, b, I)\n",
    "    k3y = dydS(x_start + 0.5*step*k2y, y_start + 0.5*step*k2y, z_start + 0.5*step*k2y, b, I)\n",
    "    k3z = dzdS(x_start + 0.5*step*k2z, y_start + 0.5*step*k2z, z_start + 0.5*step*k2z, b, I)\n",
    "    k3t = dtdS_non_standart(x_start + 0.5*step*k2t, y_start + 0.5*step*k2t, z_start + 0.5*step*k2t, b, I)\n",
    "\n",
    "    k4x = dxdS(x_start + step*k3x, y_start + step*k3x, z_start + step*k3x, b, I)\n",
    "    k4y = dydS(x_start + step*k3y, y_start + step*k3y, z_start + step*k3y, b, I)\n",
    "    k4z = dzdS(x_start + step*k3z, y_start + step*k3z, z_start + step*k3z, b, I)\n",
    "    k4t = dtdS_non_standart(x_start + step*k3t, y_start + step*k3t, z_start + step*k3t, b, I)\n",
    "\n",
    "    x_next = x_start + (step/6)*(k1x + 2*k2x + 2*k3x + k4x)\n",
    "    y_next = y_start + (step/6)*(k1y + 2*k2y + 2*k3y + k4y)\n",
    "    z_next = x_start + (step/6)*(k1z + 2*k2z + 2*k3z + k4z)\n",
    "    t_next = x_start + (step/6)*(k1t + 2*k2t + 2*k3t + k4t)\n",
    "\n",
    "    return [S_next, x_next, y_next, z_next, t_next]"
   ]
  },
  {
   "cell_type": "code",
   "execution_count": 78,
   "metadata": {
    "collapsed": false
   },
   "outputs": [
   ],
   "source": [
    "def Henon (S_min, S_max, x_start, y_start, z_start, t_start, step, b, I):\n",
    "\n",
    "    X = []\n",
    "    Y = []\n",
    "    Z = []\n",
    "    T = []\n",
    "    S_vals = []\n",
    "\n",
    "    x = x_start\n",
    "    y = y_start\n",
    "    z = z_start\n",
    "    t = t_start\n",
    "    S_start = S_min\n",
    "    next_step = step\n",
    "\n",
    "    while (S_start < S_max):\n",
    "        S_prev = S(x, y, z, b, I)\n",
    "#         print(S_prev)\n",
    "        new_point = RK4_standart_step(S_start, x, y, z, t, next_step, b, I)\n",
    "        S_start, x, y, z, t = new_point;\n",
    "        S_next = S(x, y, z, b, I);\n",
    "#         print(S_next)\n",
    "\n",
    "        if S_prev * S_next < 0:\n",
    "            print(S_prev)\n",
    "            print(S_next)\n",
    "            next_step = -S_next\n",
    "            print(next_step)\n",
    "            new_point = RK4_non_standart_step(S_start, x, y, z, t, next_step, b, I)\n",
    "            print(new_point)\n",
    "            S_start, x, y, z, t = new_point;\n",
    "            print(x)\n",
    "            print(y)\n",
    "            print(z)\n",
    "            S_test = S(x, y, z, b, I)\n",
    "            print(S_test)\n",
    "            S_vals.append(S_start)\n",
    "            X.append(x)\n",
    "            Y.append(y)\n",
    "            Z.append(z)\n",
    "            T.append(t)\n",
    "\n",
    "    return[X, Y, Z, T, S_vals]"
   ]
  },
  {
   "cell_type": "code",
   "execution_count": 79,
   "metadata": {
    "collapsed": false
   },
   "outputs": [
    {
     "name": "stdout",
     "output_type": "stream",
     "text": [
      "1.807987989560845\n",
      "-10.398375883031289\n",
      "10.398375883031289\n",
      "[10.888375883031289, 10.552283776623202, 2.6429813483960327, 2.4843413998887045, 2.5423411013113455]\n",
      "10.552283776623202\n",
      "2.6429813483960327\n",
      "2.4843413998887045\n",
      "-1117.6701238298922\n"
     ]
    },
    {
     "data": {
      "image/png": "[encoded data removed]",
      "text/latex": [
       "$\\displaystyle \\left[ \\left[ 10.552283776623202\\right], \\  \\left[ 2.6429813483960327\\right], \\  \\left[ 2.4843413998887045\\right], \\  \\left[ 2.5423411013113455\\right], \\  \\left[ 10.888375883031289\\right]\\right]$"
      ],
      "text/plain": [
       "[[10.552283776623202], [2.6429813483960327], [2.4843413998887045], [2.54234110\n",
       "13113455], [10.888375883031289]]"
      ]
     },
     "execution_count": 79,
     "metadata": {
     },
     "output_type": "execute_result"
    }
   ],
   "source": [
    "Henon(0, 100, 0, 0, 0, 0, 0.01, b, I)"
   ]
  },
  {
   "cell_type": "code",
   "execution_count": 0,
   "metadata": {
    "collapsed": false
   },
   "outputs": [
   ],
   "source": [
   ]
  }
 ],
 "metadata": {
  "kernelspec": {
   "display_name": "Python 3 (system-wide)",
   "language": "python",
   "metadata": {
    "cocalc": {
     "description": "Python 3 programming language",
     "priority": 100,
     "url": "https://www.python.org/"
    }
   },
   "name": "python3"
  },
  "language_info": {
   "codemirror_mode": {
    "name": "ipython",
    "version": 3
   },
   "file_extension": ".py",
   "mimetype": "text/x-python",
   "name": "python",
   "nbconvert_exporter": "python",
   "pygments_lexer": "ipython3",
   "version": "3.6.9"
  }
 },
 "nbformat": 4,
 "nbformat_minor": 4
}