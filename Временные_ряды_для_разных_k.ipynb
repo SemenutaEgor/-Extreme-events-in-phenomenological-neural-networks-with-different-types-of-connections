{
  "nbformat": 4,
  "nbformat_minor": 0,
  "metadata": {
    "colab": {
      "name": "Временные ряды для разных k.ipynb",
      "provenance": [],
      "collapsed_sections": [],
      "authorship_tag": "ABX9TyMYzlsvggdLK+Rsr0c95zON",
      "include_colab_link": true
    },
    "kernelspec": {
      "name": "python3",
      "display_name": "Python 3"
    },
    "language_info": {
      "name": "python"
    }
  },
  "cells": [
    {
      "cell_type": "markdown",
      "metadata": {
        "id": "view-in-github",
        "colab_type": "text"
      },
      "source": [
        "<a href=\"https://colab.research.google.com/github/SemenutaEgor/Extreme-events-in-phenomenological-neural-networks-with-different-types-of-connections/blob/master/%D0%92%D1%80%D0%B5%D0%BC%D0%B5%D0%BD%D0%BD%D1%8B%D0%B5_%D1%80%D1%8F%D0%B4%D1%8B_%D0%B4%D0%BB%D1%8F_%D1%80%D0%B0%D0%B7%D0%BD%D1%8B%D1%85_k.ipynb\" target=\"_parent\"><img src=\"https://colab.research.google.com/assets/colab-badge.svg\" alt=\"Open In Colab\"/></a>"
      ]
    },
    {
      "cell_type": "code",
      "metadata": {
        "colab": {
          "base_uri": "https://localhost:8080/"
        },
        "id": "0obBnoD2Y1jT",
        "outputId": "4170bdec-bbe8-43c9-c008-9795a7bbc4bd"
      },
      "source": [
        "!pip install --upgrade gupload"
      ],
      "execution_count": 1,
      "outputs": [
        {
          "output_type": "stream",
          "text": [
            "Collecting gupload\n",
            "  Downloading https://files.pythonhosted.org/packages/b5/ea/cd751e2eb1c8957bb6e5fb9c2e0329be5904fc9b432617bb2e83681834dd/gupload-1.1.0-py3-none-any.whl\n",
            "Collecting google-api-python-client==1.7.10\n",
            "\u001b[?25l  Downloading https://files.pythonhosted.org/packages/ab/4b/66b7591b83864caef0d960aefd05a110bcf9cb18cc6dd957414e34861530/google_api_python_client-1.7.10-py3-none-any.whl (56kB)\n",
            "\u001b[K     |████████████████████████████████| 61kB 7.8MB/s \n",
            "\u001b[?25hCollecting click==7.0\n",
            "\u001b[?25l  Downloading https://files.pythonhosted.org/packages/fa/37/45185cb5abbc30d7257104c434fe0b07e5a195a6847506c074527aa599ec/Click-7.0-py2.py3-none-any.whl (81kB)\n",
            "\u001b[K     |████████████████████████████████| 81kB 9.1MB/s \n",
            "\u001b[?25hRequirement already satisfied, skipping upgrade: six<2dev,>=1.6.1 in /usr/local/lib/python3.7/dist-packages (from google-api-python-client==1.7.10->gupload) (1.15.0)\n",
            "Requirement already satisfied, skipping upgrade: uritemplate<4dev,>=3.0.0 in /usr/local/lib/python3.7/dist-packages (from google-api-python-client==1.7.10->gupload) (3.0.1)\n",
            "Requirement already satisfied, skipping upgrade: httplib2<1dev,>=0.9.2 in /usr/local/lib/python3.7/dist-packages (from google-api-python-client==1.7.10->gupload) (0.17.4)\n",
            "Requirement already satisfied, skipping upgrade: google-auth>=1.4.1 in /usr/local/lib/python3.7/dist-packages (from google-api-python-client==1.7.10->gupload) (1.31.0)\n",
            "Requirement already satisfied, skipping upgrade: google-auth-httplib2>=0.0.3 in /usr/local/lib/python3.7/dist-packages (from google-api-python-client==1.7.10->gupload) (0.0.4)\n",
            "Requirement already satisfied, skipping upgrade: pyasn1-modules>=0.2.1 in /usr/local/lib/python3.7/dist-packages (from google-auth>=1.4.1->google-api-python-client==1.7.10->gupload) (0.2.8)\n",
            "Requirement already satisfied, skipping upgrade: setuptools>=40.3.0 in /usr/local/lib/python3.7/dist-packages (from google-auth>=1.4.1->google-api-python-client==1.7.10->gupload) (57.0.0)\n",
            "Requirement already satisfied, skipping upgrade: rsa<5,>=3.1.4; python_version >= \"3.6\" in /usr/local/lib/python3.7/dist-packages (from google-auth>=1.4.1->google-api-python-client==1.7.10->gupload) (4.7.2)\n",
            "Requirement already satisfied, skipping upgrade: cachetools<5.0,>=2.0.0 in /usr/local/lib/python3.7/dist-packages (from google-auth>=1.4.1->google-api-python-client==1.7.10->gupload) (4.2.2)\n",
            "Requirement already satisfied, skipping upgrade: pyasn1<0.5.0,>=0.4.6 in /usr/local/lib/python3.7/dist-packages (from pyasn1-modules>=0.2.1->google-auth>=1.4.1->google-api-python-client==1.7.10->gupload) (0.4.8)\n",
            "\u001b[31mERROR: earthengine-api 0.1.269 has requirement google-api-python-client<2,>=1.12.1, but you'll have google-api-python-client 1.7.10 which is incompatible.\u001b[0m\n",
            "Installing collected packages: google-api-python-client, click, gupload\n",
            "  Found existing installation: google-api-python-client 1.12.8\n",
            "    Uninstalling google-api-python-client-1.12.8:\n",
            "      Successfully uninstalled google-api-python-client-1.12.8\n",
            "  Found existing installation: click 7.1.2\n",
            "    Uninstalling click-7.1.2:\n",
            "      Successfully uninstalled click-7.1.2\n",
            "Successfully installed click-7.0 google-api-python-client-1.7.10 gupload-1.1.0\n"
          ],
          "name": "stdout"
        }
      ]
    },
    {
      "cell_type": "code",
      "metadata": {
        "id": "HqODvisWM7A4"
      },
      "source": [
        "from google.colab import drive\n",
        "drive.mount('/content/drive')\n",
        "\n",
        "from pydrive.auth import GoogleAuth\n",
        "from pydrive.drive import GoogleDrive\n",
        "from google.colab import auth\n",
        "from oauth2client.client import GoogleCredentials\n",
        "\n",
        "auth.authenticate_user()\n",
        "gauth = GoogleAuth()\n",
        "gauth.credentials = GoogleCredentials.get_application_default()\n",
        "drive = GoogleDrive(gauth)"
      ],
      "execution_count": null,
      "outputs": []
    },
    {
      "cell_type": "code",
      "metadata": {
        "id": "sEUJhBPb627c"
      },
      "source": [
        "from google.colab import drive\n",
        "drive.mount('/content/drive')\n",
        "\n",
        "from pydrive.auth import GoogleAuth\n",
        "from pydrive.drive import GoogleDrive\n",
        "from google.colab import auth\n",
        "from oauth2client.client import GoogleCredentials\n",
        "\n",
        "auth.authenticate_user()\n",
        "gauth = GoogleAuth()\n",
        "gauth.credentials = GoogleCredentials.get_application_default()\n",
        "drive = GoogleDrive(gauth)"
      ],
      "execution_count": null,
      "outputs": []
    },
    {
      "cell_type": "code",
      "metadata": {
        "id": "m285wEAnKa5b"
      },
      "source": [
        "import numpy as np\n",
        "import scipy as scp\n",
        "import matplotlib.pyplot as plt\n",
        "from scipy.integrate import solve_ivp\n",
        "from scipy.signal import argrelextrema"
      ],
      "execution_count": null,
      "outputs": []
    },
    {
      "cell_type": "code",
      "metadata": {
        "id": "3O61LvlELpwc"
      },
      "source": [
        "#задаём параметры, функцию гамма и саму систему из двух связных нейронов\n",
        "a = 1\n",
        "b = 3\n",
        "c = 1\n",
        "d = 5\n",
        "x_r = -1.6\n",
        "r = 0.01\n",
        "s = 5\n",
        "I = 4\n",
        "v_s = 2\n",
        "lambd = 10\n",
        "Theta = -0.25\n",
        "\n",
        "Gamma = lambda x: 1 / (1 + np.exp(-lambd * (x - Theta)))\n",
        "\n",
        "def two_HRs(t, X, k1, k2, k):\n",
        "    x1, y1, z1, x2, y2, z2  = X\n",
        "    dx1 = y1 - a*x1**3 + b*x1**2 -z1 + I - k1*(x1 - v_s) * Gamma(x2) + k * (x2 - x1)\n",
        "    dy1 = c - d*x1**2 - y1\n",
        "    dz1 = r*(s*(x1 - x_r) - z1)\n",
        "    \n",
        "    dx2 = y2 - a*x2**3 + b*x2**2 -z2 + I - k2*(x2 - v_s) * Gamma(x1) + k * (x1 - x2)\n",
        "    dy2 = c - d*x2**2 - y2\n",
        "    dz2 = r*(s*(x2 - x_r) - z2)\n",
        "    return [dx1, dy1, dz1, dx2, dy2, dz2]"
      ],
      "execution_count": null,
      "outputs": []
    },
    {
      "cell_type": "code",
      "metadata": {
        "id": "oJ_JGnDRL0Bz"
      },
      "source": [
        "ks = np.linspace(0.0, 1.0, 21, endpoint=True)\n",
        "for i, k in enumerate(ks):\n",
        "  k1 = -0.17\n",
        "  k2 = -0.17\n",
        "  \n",
        "  initials = [-1.5, 0, 0, -2.5, 0, 0]\n",
        "  \n",
        "  sol = solve_ivp(two_HRs, [0, 5000], initials, rtol = 1e-11, atol = 1e-11, dense_output=True, args = (k1, k2, k))\n",
        "  ts = sol.t\n",
        "  x1s, y1s, z1s, x2s, y2s, z2s = sol.y\n",
        "  \n",
        "  ts = np.array(ts)\n",
        "  x1s = np.array(x1s)\n",
        "  x2s = np.array(x2s)\n",
        "  \n",
        "  xsum = x1s + x2s\n",
        "  \n",
        "  ts = ts[200000:]\n",
        "  xsum = xsum[200000:]\n",
        "  \n",
        "  spikes_ind = argrelextrema(xsum, np.greater) \n",
        "  spikes = xsum[spikes_ind]\n",
        "  \n",
        "  mu = np.mean(spikes)\n",
        "  sigma = np.std(spikes)\n",
        "  \n",
        "  Hs = mu + 6*sigma\n",
        "  \n",
        "  fig = plt.figure(figsize = (10, 5))\n",
        "  ax = fig.add_subplot(1, 1, 1)\n",
        "  ax.plot (ts, xsum)\n",
        "  # ax.set_ylim(-3, 4) \n",
        "  ax.set_xlim(20000, 40000)\n",
        "  plt.axhline(y = Hs, color =\"red\", linestyle =\"--\")\n",
        "  ax.set_xlabel(\"$Time$\", fontsize=30)\n",
        "  ax.set_ylabel(\"$x_{II}$\", fontsize=30)\n",
        "  ax.tick_params(axis='both', which='major', labelsize=20)\n",
        "  ax.tick_params(axis='both', which='minor', labelsize=20)\n",
        "  plt.title(\"$k = $\"+str(k), fontsize=30)\n",
        "  plt.savefig(f\"k{k}.png\")\n",
        "\n",
        "  !gupload --to '1Jkeb58x2sF4GSO9IlYoQ6mVkTUjN0Y0N' k{k}.png\n",
        "\n"
      ],
      "execution_count": null,
      "outputs": []
    },
    {
      "cell_type": "code",
      "metadata": {
        "id": "jwcT5WYP8TSM"
      },
      "source": [
        "k1 = -0.17\n",
        "k2 = -0.17\n",
        "  \n",
        "initials = [-1.5, 0, 0, -2.5, 0, 0]\n",
        "  \n",
        "sol = solve_ivp(two_HRs, [0, 5000], initials, rtol = 1e-11, atol = 1e-11, dense_output=True, args = (k1, k2, k))\n",
        "ts = sol.t\n",
        "x1s, y1s, z1s, x2s, y2s, z2s = sol.y\n",
        "\n",
        "ts = np.array(ts)\n",
        "x1s = np.array(x1s)\n",
        "x2s = np.array(x2s)\n",
        "  \n",
        "xsum = x1s + x2s\n",
        "  \n",
        "ts = ts[200000:]\n",
        "xsum = xsum[200000:]\n",
        "  \n",
        "spikes_ind = argrelextrema(xsum, np.greater) \n",
        "spikes = xsum[spikes_ind]\n",
        "  \n",
        "mu = np.mean(spikes)\n",
        "sigma = np.std(spikes)\n",
        "  \n",
        "Hs = mu + 6*sigma\n",
        "  \n",
        "fig = plt.figure(figsize = (10, 5))\n",
        "ax = fig.add_subplot(1, 1, 1)\n",
        "ax.plot (ts, xsum)\n",
        "# ax.set_ylim(-3, 4) \n",
        "ax.set_xlim(20000, 40000)\n",
        "plt.axhline(y = Hs, color =\"red\", linestyle =\"--\")\n",
        "ax.set_xlabel(\"$Time$\", fontsize=30)\n",
        "ax.set_ylabel(\"$x_{II}$\", fontsize=30)\n",
        "ax.tick_params(axis='both', which='major', labelsize=20)\n",
        "ax.tick_params(axis='both', which='minor', labelsize=20)\n",
        "plt.title(\"$k = $\"+str(k), fontsize=30)\n",
        "plt.savefig(f\"k{k}.eps\")\n",
        "\n",
        "!gupload --to '1Jkeb58x2sF4GSO9IlYoQ6mVkTUjN0Y0N' k{k}.eps"
      ],
      "execution_count": null,
      "outputs": []
    }
  ]
}