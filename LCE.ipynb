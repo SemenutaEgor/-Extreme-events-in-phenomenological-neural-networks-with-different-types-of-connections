{
  "nbformat": 4,
  "nbformat_minor": 0,
  "metadata": {
    "colab": {
      "name": "LCE.ipynb",
      "provenance": [],
      "authorship_tag": "ABX9TyOMQ9lPNX4cKnMVWp6igPCy",
      "include_colab_link": true
    },
    "kernelspec": {
      "name": "python3",
      "display_name": "Python 3"
    },
    "language_info": {
      "name": "python"
    }
  },
  "cells": [
    {
      "cell_type": "markdown",
      "metadata": {
        "id": "view-in-github",
        "colab_type": "text"
      },
      "source": [
        "<a href=\"https://colab.research.google.com/github/SemenutaEgor/Extreme-events-in-phenomenological-neural-networks-with-different-types-of-connections/blob/master/LCE.ipynb\" target=\"_parent\"><img src=\"https://colab.research.google.com/assets/colab-badge.svg\" alt=\"Open In Colab\"/></a>"
      ]
    },
    {
      "cell_type": "code",
      "metadata": {
        "id": "eUtQZgj8spcY"
      },
      "source": [
        "import numpy as np\n",
        "import scipy as scp\n",
        "import matplotlib.pyplot as plt\n",
        "from scipy.integrate import solve_ivp\n",
        "import sympy as sy"
      ],
      "execution_count": null,
      "outputs": []
    },
    {
      "cell_type": "code",
      "metadata": {
        "id": "rwLckCirs5SM"
      },
      "source": [
        "pip install jitcode"
      ],
      "execution_count": null,
      "outputs": []
    },
    {
      "cell_type": "code",
      "metadata": {
        "id": "0yoFtqxes5qN"
      },
      "source": [
        "from jitcode import jitcode_lyap, y\n",
        "from scipy.stats import sem\n",
        "import math\n",
        "import sympy as sy\n",
        "\n",
        "\n",
        "a = 1\n",
        "b = 3\n",
        "c = 1\n",
        "d = 5\n",
        "x_r = -1.6\n",
        "r = 0.01\n",
        "s = 5\n",
        "I = 4\n",
        "v_s = 2\n",
        "lambd = 10\n",
        "Theta = -0.25\n",
        "\n",
        "k1 = -0.17\n",
        "k2 = -0.17\n",
        "k = 0.0"
      ],
      "execution_count": null,
      "outputs": []
    },
    {
      "cell_type": "code",
      "metadata": {
        "id": "LNMiUBjUtObx"
      },
      "source": [
        "twoHRs = [\n",
        "          y(1) - a * y(0) ** 3 + b * y(0) ** 2 - y(2) + I - k1 * (y(0) - v_s) * (1 / (1 + sy.exp(-lambd * (y(3) - Theta)))) + k * (y(3) - y(0)),\n",
        "          c - d * y(0) ** 2 - y(1),\n",
        "          r * (s * (y(0) - x_r) - y(2)),\n",
        "          y(4) - a * y(3) ** 3 + b * y(3) ** 2 - y(5) + I - k2 * (y(5) - v_s) * (1 / (1 + sy.exp(-lambd * (y(0) - Theta)))) + k * (y(0) - y(3)),\n",
        "          c - d * y(3) ** 2 - y(4),\n",
        "          r * (s * (y(3) - x_r) - y(5))\n",
        "          ]\n",
        "\n",
        "initial_state = np.array([-1.5, 0.0, 0.0, -2.5, 0.0, 0.0])"
      ],
      "execution_count": null,
      "outputs": []
    },
    {
      "cell_type": "code",
      "metadata": {
        "id": "eig4lDbatdCJ"
      },
      "source": [
        "from scipy.integrate import ode\n",
        "\n",
        "n = len(twoHRs)\n",
        "ODE = jitcode_lyap(twoHRs, n_lyap=n)\n",
        "ODE.set_integrator(\"vode\")\n",
        "ODE.set_initial_value(initial_state,0.0)\n",
        "\n",
        "times = range(1,100000,1)\n",
        "lyaps = []\n",
        "for time in times:\n",
        "\tlyaps.append(ODE.integrate(time)[1])\n",
        "\n",
        "# converting to NumPy array for easier handling\n",
        "lyaps = np.vstack(lyaps)\n",
        "\n",
        "for i in range(n):\n",
        "\tlyap = np.average(lyaps[1000:,i])\n",
        "\tstderr = sem(lyaps[1000:,i]) # Note that this only an estimate\n",
        "\tprint(\"%i. Lyapunov exponent: % .4f ± %.4f\" % (i+1,lyap,stderr))"
      ],
      "execution_count": null,
      "outputs": []
    },
    {
      "cell_type": "code",
      "metadata": {
        "id": "VaG-NLeqtiYI"
      },
      "source": [
        "ks = np.linspace(0.0, 1.0, 101, endpoint=True)\n",
        "\n",
        "lce1 = []\n",
        "lce2 = []\n",
        "lce3 = []\n",
        "lce4 = []\n",
        "lce5 = []\n",
        "lce6 = []\n",
        "\n",
        "a = 1\n",
        "b = 3\n",
        "c = 1\n",
        "d = 5\n",
        "x_r = -1.6\n",
        "r = 0.01\n",
        "s = 5\n",
        "I = 4\n",
        "v_s = 2\n",
        "lambd = 10\n",
        "Theta = -0.25\n",
        "\n",
        "k1 = -0.17\n",
        "k2 = -0.17\n",
        "\n",
        "for i, k in enumerate(ks):\n",
        "\n",
        "  twoHRs = [\n",
        "          y(1) - a * y(0) ** 3 + b * y(0) ** 2 - y(2) + I - k1 * (y(0) - v_s) * (1 / (1 + sy.exp(-lambd * (y(3) - Theta)))) + k * (y(3) - y(0)),\n",
        "          c - d * y(0) ** 2 - y(1),\n",
        "          r * (s * (y(0) - x_r) - y(2)),\n",
        "          y(4) - a * y(3) ** 3 + b * y(3) ** 2 - y(5) + I - k2 * (y(5) - v_s) * (1 / (1 + sy.exp(-lambd * (y(0) - Theta)))) + k * (y(0) - y(3)),\n",
        "          c - d * y(3) ** 2 - y(4),\n",
        "          r * (s * (y(3) - x_r) - y(5))\n",
        "          ]\n",
        "  initial_state = np.array([-1.5, 0.0, 0.0, -2.5, 0.0, 0.0])\n",
        "\n",
        "  print('k = ', k)\n",
        "  n = len(twoHRs)\n",
        "  ODE = jitcode_lyap(twoHRs, n_lyap=n)\n",
        "  ODE.set_integrator(\"vode\")\n",
        "  ODE.set_initial_value(initial_state,0.0)\n",
        "  times = range(1,100000,1)\n",
        "  lyaps = []\n",
        "  for time in times:\n",
        "    lyaps.append(ODE.integrate(time)[1])\n",
        "    # converting to NumPy array for easier handling\n",
        "  lyaps = np.vstack(lyaps)\n",
        "  \n",
        "  temp = [0, 0, 0, 0, 0, 0]\n",
        "\n",
        "  for i in range(n):\n",
        "    lyap = np.average(lyaps[1000:,i])\n",
        "    temp[i] = lyap\n",
        "    stderr = sem(lyaps[1000:,i]) # Note that this only an estimate\n",
        "    print(\"%i. Lyapunov exponent: % .4f ± %.4f\" % (i+1,lyap,stderr))\n",
        "  \n",
        "  lce1.append(temp[0])\n",
        "  lce2.append(temp[1])\n",
        "  lce3.append(temp[2])\n",
        "  lce4.append(temp[3])\n",
        "  lce5.append(temp[4])\n",
        "  lce6.append(temp[5])"
      ],
      "execution_count": null,
      "outputs": []
    },
    {
      "cell_type": "code",
      "metadata": {
        "id": "-IBgHNvMmaad"
      },
      "source": [
        ""
      ],
      "execution_count": null,
      "outputs": []
    }
  ]
}