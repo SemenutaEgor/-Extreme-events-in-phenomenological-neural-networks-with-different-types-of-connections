{
  "nbformat": 4,
  "nbformat_minor": 0,
  "metadata": {
    "colab": {
      "name": "MaimMapfrom4.ipynb",
      "provenance": [],
      "collapsed_sections": [],
      "authorship_tag": "ABX9TyMlwvFJiPB1yYaqBbi+bP9q",
      "include_colab_link": true
    },
    "kernelspec": {
      "name": "python3",
      "display_name": "Python 3"
    },
    "language_info": {
      "name": "python"
    }
  },
  "cells": [
    {
      "cell_type": "markdown",
      "metadata": {
        "id": "view-in-github",
        "colab_type": "text"
      },
      "source": [
        "<a href=\"https://colab.research.google.com/github/SemenutaEgor/Extreme-events-in-phenomenological-neural-networks-with-different-types-of-connections/blob/master/MaimMapfrom4.ipynb\" target=\"_parent\"><img src=\"https://colab.research.google.com/assets/colab-badge.svg\" alt=\"Open In Colab\"/></a>"
      ]
    },
    {
      "cell_type": "code",
      "metadata": {
        "id": "k8I5J10XPeSQ",
        "colab": {
          "base_uri": "https://localhost:8080/"
        },
        "outputId": "3a7aa00b-4f3e-4ccf-c58a-7d16957943a6"
      },
      "source": [
        "from google.colab import drive\n",
        "drive.mount('/content/drive')\n"
      ],
      "execution_count": null,
      "outputs": [
        {
          "output_type": "stream",
          "text": [
            "Mounted at /content/drive\n"
          ],
          "name": "stdout"
        }
      ]
    },
    {
      "cell_type": "code",
      "metadata": {
        "id": "K7WLWCBSexcr"
      },
      "source": [
        "from pydrive.auth import GoogleAuth\n",
        "from pydrive.drive import GoogleDrive\n",
        "from google.colab import auth\n",
        "from oauth2client.client import GoogleCredentials\n",
        "import numpy as np\n",
        "import matplotlib.pyplot as plt"
      ],
      "execution_count": null,
      "outputs": []
    },
    {
      "cell_type": "code",
      "metadata": {
        "id": "fNglrqWkeqjK"
      },
      "source": [
        "auth.authenticate_user()\n",
        "gauth = GoogleAuth()\n",
        "gauth.credentials = GoogleCredentials.get_application_default()\n",
        "drive = GoogleDrive(gauth)"
      ],
      "execution_count": null,
      "outputs": []
    },
    {
      "cell_type": "code",
      "metadata": {
        "id": "i44R5CSy7hUN"
      },
      "source": [
        "with open('/content/drive/My Drive/Colab Notebooks/rows1from4.txt', 'r') as f:\n",
        "    rows1n = np.loadtxt(f)\n",
        "\n",
        "with open('/content/drive/My Drive/Colab Notebooks/rows3from4.txt', 'r') as f:\n",
        "    rows3n = np.loadtxt(f)\n"
      ],
      "execution_count": null,
      "outputs": []
    },
    {
      "cell_type": "code",
      "metadata": {
        "id": "fMujV6zS8DBc"
      },
      "source": [
        "with open('/content/drive/My Drive/Colab Notebooks/cols1from4.txt', 'r') as f:\n",
        "    cols1n = np.loadtxt(f)\n",
        "\n",
        "with open('/content/drive/My Drive/Colab Notebooks/cols2from4.txt', 'r') as f:\n",
        "    cols2n = np.loadtxt(f)\n"
      ],
      "execution_count": null,
      "outputs": []
    },
    {
      "cell_type": "code",
      "metadata": {
        "id": "YKt1FY-d8Sbz"
      },
      "source": [
        "with open('/content/drive/My Drive/Colab Notebooks/grid1from4.txt', 'r') as f:\n",
        "    grid1 = np.loadtxt(f)\n",
        "\n",
        "with open('/content/drive/My Drive/Colab Notebooks/grid2from4.txt', 'r') as f:\n",
        "    grid2 = np.loadtxt(f)\n",
        "\n",
        "with open('/content/drive/My Drive/Colab Notebooks/grid3from4.txt', 'r') as f:\n",
        "    grid3 = np.loadtxt(f)\n",
        "\n",
        "with open('/content/drive/My Drive/Colab Notebooks/grid4from4.txt', 'r') as f:\n",
        "    grid4 = np.loadtxt(f)"
      ],
      "execution_count": null,
      "outputs": []
    },
    {
      "cell_type": "code",
      "metadata": {
        "id": "WDsXx41Zau51"
      },
      "source": [
        "grid12 = np.concatenate((grid1, grid2), axis=0)\n",
        "grid34 = np.concatenate((grid4, grid3), axis=0)\n",
        "grid = np.concatenate((grid12, grid34), axis=1)\n",
        "\n",
        "rows = np.append(rows1n, rows3n)\n",
        "cols = np.append(cols1n, cols2n)\n",
        "\n",
        "with open('/content/drive/My Drive/Colab Notebooks/grid1from4.txt', 'w') as f:\n",
        "    np.savetxt(f, grid)\n",
        "with open('/content/drive/My Drive/Colab Notebooks/rows1from4.txt', 'w') as f:\n",
        "    np.savetxt(f, rows)\n",
        "with open('/content/drive/My Drive/Colab Notebooks/cols1from4.txt', 'w') as f:\n",
        "    np.savetxt(f, cols)"
      ],
      "execution_count": null,
      "outputs": []
    },
    {
      "cell_type": "code",
      "metadata": {
        "colab": {
          "base_uri": "https://localhost:8080/",
          "height": 369
        },
        "id": "vJtM-zPcQUnh",
        "outputId": "1bb684f3-de24-462f-a768-741497e8df9f"
      },
      "source": [
        "plt.pcolormesh(rows, cols, np.log10(grid), cmap=plt.cm.get_cmap('jet'))\n",
        "plt.axes().set_aspect('equal', adjustable='box')\n",
        "plt.colorbar()"
      ],
      "execution_count": null,
      "outputs": [
        {
          "output_type": "stream",
          "text": [
            "/usr/local/lib/python3.7/dist-packages/ipykernel_launcher.py:1: RuntimeWarning: divide by zero encountered in log10\n",
            "  \"\"\"Entry point for launching an IPython kernel.\n",
            "/usr/local/lib/python3.7/dist-packages/ipykernel_launcher.py:2: MatplotlibDeprecationWarning: Adding an axes using the same arguments as a previous axes currently reuses the earlier instance.  In a future version, a new instance will always be created and returned.  Meanwhile, this warning can be suppressed, and the future behavior ensured, by passing a unique label to each axes instance.\n",
            "  \n"
          ],
          "name": "stderr"
        },
        {
          "output_type": "execute_result",
          "data": {
            "text/plain": [
              "<matplotlib.colorbar.Colorbar at 0x7f98d5024a50>"
            ]
          },
          "metadata": {
            "tags": []
          },
          "execution_count": 9
        },
        {
          "output_type": "display_data",
          "data": {
            "image/png": "[encoded data removed]",
            "text/plain": [
              "<Figure size 432x288 with 2 Axes>"
            ]
          },
          "metadata": {
            "tags": [],
            "needs_background": "light"
          }
        }
      ]
    },
    {
      "cell_type": "code",
      "metadata": {
        "id": "Rk7PEmkVlcRn"
      },
      "source": [
        ""
      ],
      "execution_count": null,
      "outputs": []
    }
  ]
}